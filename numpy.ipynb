{
 "cells": [
  {
   "cell_type": "code",
   "execution_count": 1,
   "id": "1c9471d4-ec1f-4cec-bf15-30999d269c5b",
   "metadata": {},
   "outputs": [],
   "source": [
    "# Theoretical Questions"
   ]
  },
  {
   "cell_type": "code",
   "execution_count": 2,
   "id": "a5f320ba-7013-4011-9450-d10488576756",
   "metadata": {},
   "outputs": [],
   "source": [
    "# Q.1. Explain the purpose and advantages of NumPy in scientific computing and data analysis. How does it enhance Python's capabilities for numerical operations\n",
    "\n",
    "#ans>> NumPy, short for Numerical Python, is a fundamental package for scientific computing and data analysis in Python. It provides support for arrays, matrices, \n",
    "#and a variety of mathematical functions to operate on these data structures.\n",
    "#Efficient Storage and Manipulation of Numerical Data.\n",
    "#It includes a vast library of mathematical functions to perform operations such as linear algebra, Fourier transforms, and random number generation.\n",
    "#Support for Multidimensional Arrays."
   ]
  },
  {
   "cell_type": "code",
   "execution_count": 3,
   "id": "c9b8f814-7e9c-4b3f-a911-325c053e207f",
   "metadata": {},
   "outputs": [],
   "source": [
    "#Q2. Compare and contrast np.mean() and np.average() functions in NumPy. When would you use one over the other\n",
    "\n",
    "#ans >> . Mean: Commonly refers to the 'Arithmetic Mean' or the sum of a collection of numbers divided by the number of numbers in the collection1\n",
    "        #. Average: Average can refer to many different calculations, of which the 'Arithmetic Mean' is one. Others include 'Median', 'Mode', 'Weighted Mean, 'Interquartile Mean' and many others\n",
    "\n",
    "import numpy as np"
   ]
  },
  {
   "cell_type": "code",
   "execution_count": 11,
   "id": "829b61e4-94ed-43a3-b345-04c998506efc",
   "metadata": {},
   "outputs": [],
   "source": [
    "arr = np.array([[3, 4] , [5, 6]])"
   ]
  },
  {
   "cell_type": "code",
   "execution_count": 12,
   "id": "07d6dbe4-5334-47fc-bdd6-817ad3860b9c",
   "metadata": {},
   "outputs": [
    {
     "data": {
      "text/plain": [
       "array([[3, 4],\n",
       "       [5, 6]])"
      ]
     },
     "execution_count": 12,
     "metadata": {},
     "output_type": "execute_result"
    }
   ],
   "source": [
    "arr"
   ]
  },
  {
   "cell_type": "code",
   "execution_count": 13,
   "id": "6257d3da-37a0-41d0-a597-c84b58bc2949",
   "metadata": {},
   "outputs": [
    {
     "data": {
      "text/plain": [
       "4.5"
      ]
     },
     "execution_count": 13,
     "metadata": {},
     "output_type": "execute_result"
    }
   ],
   "source": [
    "np.mean(arr)"
   ]
  },
  {
   "cell_type": "code",
   "execution_count": 18,
   "id": "b93e41df-bfc1-4c3b-9bff-39865ca35d3c",
   "metadata": {},
   "outputs": [
    {
     "data": {
      "text/plain": [
       "2.5"
      ]
     },
     "execution_count": 18,
     "metadata": {},
     "output_type": "execute_result"
    }
   ],
   "source": [
    "data = range(1, 5)\n",
    "data\n",
    "np.average(data)"
   ]
  },
  {
   "cell_type": "code",
   "execution_count": 19,
   "id": "b1e854e5-1417-4249-9b83-df0b5d0e152a",
   "metadata": {},
   "outputs": [
    {
     "name": "stdout",
     "output_type": "stream",
     "text": [
      "Original 1D Array: [1 2 3 4 5]\n",
      "Reversed 1D Array: [5 4 3 2 1]\n"
     ]
    }
   ],
   "source": [
    "#Q3. Describe the methods for reversing a NumPy array along different axes. Provide examples for 1D and 2D array?\n",
    "\n",
    "#ans>> 1d array\n",
    "#Using Slicing:\n",
    "arr = np.array([1, 2, 3, 4, 5])\n",
    "reversed_arr = arr[::-1]\n",
    "\n",
    "print(\"Original 1D Array:\", arr)\n",
    "print(\"Reversed 1D Array:\", reversed_arr)\n",
    "\n"
   ]
  },
  {
   "cell_type": "code",
   "execution_count": 20,
   "id": "cbfe5b35-471a-43e5-8753-e437b4449e86",
   "metadata": {},
   "outputs": [
    {
     "name": "stdout",
     "output_type": "stream",
     "text": [
      "Reversed 1D Array using flip(): [5 4 3 2 1]\n"
     ]
    }
   ],
   "source": [
    "#using numpy flip\n",
    "\n",
    "reversed_arr = np.flip(arr)\n",
    "\n",
    "print(\"Reversed 1D Array using flip():\", reversed_arr)\n"
   ]
  },
  {
   "cell_type": "code",
   "execution_count": 25,
   "id": "5957a208-712b-45e7-9b1a-9eda91a520d5",
   "metadata": {},
   "outputs": [
    {
     "name": "stdout",
     "output_type": "stream",
     "text": [
      "Original 2D Array:\n",
      " [[1 2 3]\n",
      " [4 5 6]\n",
      " [7 8 9]]\n",
      "Rows Reversed 2D Array:\n",
      " [[7 8 9]\n",
      " [4 5 6]\n",
      " [1 2 3]]\n"
     ]
    }
   ],
   "source": [
    "#2d array\n",
    "\n",
    "arr_2d = np.array([[1, 2, 3], [4, 5, 6], [7, 8, 9]])\n",
    "reversed_rows = arr_2d[::-1, :]\n",
    "\n",
    "print(\"Original 2D Array:\\n\", arr_2d)\n",
    "print(\"Rows Reversed 2D Array:\\n\", reversed_rows)\n"
   ]
  },
  {
   "cell_type": "code",
   "execution_count": 26,
   "id": "0998cac5-5619-455e-87cc-ba73b9254020",
   "metadata": {},
   "outputs": [
    {
     "name": "stdout",
     "output_type": "stream",
     "text": [
      "Rows Reversed 2D Array using flip():\n",
      " [[7 8 9]\n",
      " [4 5 6]\n",
      " [1 2 3]]\n"
     ]
    }
   ],
   "source": [
    "reversed_rows = np.flip(arr_2d, axis=0)\n",
    "\n",
    "print(\"Rows Reversed 2D Array using flip():\\n\", reversed_rows)\n"
   ]
  },
  {
   "cell_type": "code",
   "execution_count": 27,
   "id": "539ede41-49fd-4e41-9fc4-10a0d432efcb",
   "metadata": {},
   "outputs": [
    {
     "name": "stdout",
     "output_type": "stream",
     "text": [
      "Columns Reversed 2D Array using flip():\n",
      " [[3 2 1]\n",
      " [6 5 4]\n",
      " [9 8 7]]\n"
     ]
    }
   ],
   "source": [
    "reversed_columns = np.flip(arr_2d, axis=1)\n",
    "\n",
    "print(\"Columns Reversed 2D Array using flip():\\n\", reversed_columns)\n"
   ]
  },
  {
   "cell_type": "code",
   "execution_count": 28,
   "id": "63d7178f-bda2-4c03-8a03-0ac9a74dfa62",
   "metadata": {},
   "outputs": [
    {
     "name": "stdout",
     "output_type": "stream",
     "text": [
      "Data type of array elements: int64\n"
     ]
    }
   ],
   "source": [
    "#Q4. How can you determine the data type of elements in a NumPy array? Discuss the importance of data types in memory management and performance?\n",
    "\n",
    "#ans>> we can determine the data type of elements in a NumPy array using the dtype attribute. This attribute returns the data type object of the array, \n",
    "#providing information about the type of elements it hold\n",
    "\n",
    "arr = np.array([1, 2, 3, 4, 5])\n",
    "print(\"Data type of array elements:\", arr.dtype)\n"
   ]
  },
  {
   "cell_type": "code",
   "execution_count": 29,
   "id": "0825627d-87ca-45c7-aef1-227add989d79",
   "metadata": {},
   "outputs": [
    {
     "name": "stdout",
     "output_type": "stream",
     "text": [
      "Data type of 2D array elements: float64\n"
     ]
    }
   ],
   "source": [
    "arr_2d = np.array([[1.0, 2.0, 3.0], [4.0, 5.0, 6.0]])\n",
    "print(\"Data type of 2D array elements:\", arr_2d.dtype)\n"
   ]
  },
  {
   "cell_type": "code",
   "execution_count": 30,
   "id": "6bcc6c5f-81ef-4071-a613-b0614a778d9b",
   "metadata": {},
   "outputs": [],
   "source": [
    "#5. Define ndarrays in NumPy and explain their key features. How do they differ from standard Python lists?\n",
    "\n",
    "\n",
    "#ans>> In NumPy, an ndarray (short for N-dimensional array) is a central data structure that represents a multidimensional,\n",
    "#homogeneous array of fixed-size items. Each element in an ndarray is of the same data type, and the number of dimensions \n",
    "#(axes) is defined by the shape of the array.\n",
    "#Homogeneity\n",
    "#Multidimensional\n",
    "#Efficient Memory Layout\n",
    "#Broadcasting\n",
    "\n",
    "#ndarrays: Elements are of the same data type, which ensures efficient storage and computation.\n",
    "#Python lists: Elements can be of different data types, leading to increased memory overhead and slower performance."
   ]
  },
  {
   "cell_type": "code",
   "execution_count": 31,
   "id": "c709dfcd-2647-4d9f-98a5-f1723f97f860",
   "metadata": {},
   "outputs": [],
   "source": [
    "#ndarrays: Provide a wide range of built-in functions for mathematical and statistical operations.\n",
    "#Python lists: Lack built-in numerical functions and require external libraries or manual implementation for such operations.\n",
    "\n",
    "# ndarrays: Naturally support multidimensional arrays with efficient slicing, indexing, and reshaping capabilities.\n",
    "# Python lists: Can represent multidimensional arrays as lists of lists, but this approach is less efficient and more cumbersome to work with."
   ]
  },
  {
   "cell_type": "code",
   "execution_count": 32,
   "id": "e4d66d00-085a-4722-ad28-c178d7289d11",
   "metadata": {},
   "outputs": [],
   "source": [
    "#6. Analyze the performance benefits of NumPy arrays over Python lists for large-scale numerical operations.\n",
    "\n",
    "#ans>> NumPy arrays (ndarrays) offer significant performance advantages over Python lists for large-scale \n",
    "#numerical operations. These benefits stem from several key factors, including memory efficiency, optimized \n",
    "#computations, and support for vectorized operations. Below, we delve into these factors\n"
   ]
  },
  {
   "cell_type": "code",
   "execution_count": 33,
   "id": "fe7eb972-37a0-4820-89ae-ed8423479a79",
   "metadata": {},
   "outputs": [],
   "source": [
    "#Element-Wise Addition: NumPy arrays perform element-wise addition significantly faster than Python lists due to optimized, vectorized operations.\n",
    "# Scalar Multiplication: Scalar multiplication is also much faster with NumPy arrays compared to Python lists, leveraging contiguous memory and optimized arithmetic.\n",
    "#Matrix Multiplication: Matrix multiplication with NumPy arrays is far more efficient than with Python lists, benefiting from highly optimized linear algebra routines."
   ]
  },
  {
   "cell_type": "code",
   "execution_count": 34,
   "id": "6bf8130b-d245-449f-9ac7-8a54e4b8574c",
   "metadata": {},
   "outputs": [
    {
     "name": "stdout",
     "output_type": "stream",
     "text": [
      "[[1 2]\n",
      " [3 4]\n",
      " [5 6]]\n"
     ]
    }
   ],
   "source": [
    "#Q7. Compare vstack() and hstack() functions in NumPy. Provide examples demonstrating their usage and output\n",
    "\n",
    "#ans>> vstack() combines arrays vertically, stacking them on top of each other.\n",
    "#It concatenates along the first axis (rows).\n",
    "#The second dimension (index 1) of the arrays must match.\n",
    "\n",
    "arr1 = np.array([[1, 2], [3, 4]])\n",
    "arr2 = np.array([[5, 6]])\n",
    "\n",
    "result_vstack = np.vstack((arr1, arr2))\n",
    "print(result_vstack)\n"
   ]
  },
  {
   "cell_type": "code",
   "execution_count": 35,
   "id": "58ba20fd-1fd3-4783-be27-63a557b3a24a",
   "metadata": {},
   "outputs": [
    {
     "name": "stdout",
     "output_type": "stream",
     "text": [
      "[[ 7  9]\n",
      " [ 8 10]]\n"
     ]
    }
   ],
   "source": [
    "# hstack() combines arrays horizontally, stacking them side by side.\n",
    "#It concatenates along the second axis (columns).\n",
    "#The first dimension (index 0) of the arrays must match.\n",
    "\n",
    "arr3 = np.array([[7], [8]])\n",
    "arr4 = np.array([[9], [10]])\n",
    "\n",
    "result_hstack = np.hstack((arr3, arr4))\n",
    "print(result_hstack)\n"
   ]
  },
  {
   "cell_type": "code",
   "execution_count": 36,
   "id": "672b37ee-aaa3-466c-84f0-17d23e5669ec",
   "metadata": {},
   "outputs": [],
   "source": [
    "#Q8. Explain the differences between fliplr() and flipud() methods in NumPy, including their effects on various array dimensions\n",
    "\n",
    "#fliplr\n",
    "#ans>> Use fliplr() when you want to flip along the second axis (left-right).\n",
    "# This function flips an array from left to right along the second axis (axis 1).\n",
    "#Specifically, it reverses the order of elements along the columns.\n",
    "#For a 2-D array, it swaps the entries in each column in the left-right direction.\n",
    "\n",
    "#flipud\n",
    "# Use flipud() when you need to flip along the first axis (up-down).\n",
    "# flipud() reverses the order of elements along the first axis (axis 0).\n",
    "#It flips the array from top to bottom.\n",
    "#For a 2-D array, it swaps the entries in each column in the up-down direction."
   ]
  },
  {
   "cell_type": "code",
   "execution_count": 37,
   "id": "8faefa4f-f90d-4392-8a2e-eb2b2fceb75a",
   "metadata": {},
   "outputs": [],
   "source": [
    "#Q9. Discuss the functionality of the array_split() method in NumPy. How does it handle uneven splits?\n",
    "\n",
    "\n",
    "#ans>> NumPy arrays are an essential tool for scientific computing. However, at times, it becomes necessary\n",
    "#to manipulate and analyze specific parts of the data. This is where array splitting comes into play, allowing you to break down an array into smaller sub-arrays, \n",
    "#making the data more manageable. It is similar to slicing but on a larger scale."
   ]
  },
  {
   "cell_type": "code",
   "execution_count": 38,
   "id": "4401e3a6-7be7-489d-9da5-b1c2ecbb34c2",
   "metadata": {},
   "outputs": [
    {
     "name": "stdout",
     "output_type": "stream",
     "text": [
      "[array([1, 2]), array([3, 4]), array([5])]\n"
     ]
    }
   ],
   "source": [
    "Arr = np.array([1, 2, 3, 4, 5, 6])\n",
    "array = np.array_split(arr, 3)\n",
    "print(array)"
   ]
  },
  {
   "cell_type": "code",
   "execution_count": 39,
   "id": "f47c59e1-b58d-462f-a65c-767c10dd01c1",
   "metadata": {},
   "outputs": [],
   "source": [
    "#Q10. Explain the concepts of vectorization and broadcasting in NumPy. How do they contribute to efficient array operations\n",
    "\n",
    "\n",
    "#ans>> In NumPy, vectorized functions are optimized for performance and efficiency, as they leverage low-level C or Fortran implementations under the hood.\n",
    "\n",
    "a = np.array([1.0, 2.0, 3.0])\n",
    "b = np.array([2.0, 2.0, 2.0])\n",
    "result = a * b\n",
    "\n"
   ]
  },
  {
   "cell_type": "code",
   "execution_count": 40,
   "id": "27d15c68-e44a-40f1-9308-e45c7cd5fe00",
   "metadata": {},
   "outputs": [
    {
     "data": {
      "text/plain": [
       "array([2., 4., 6.])"
      ]
     },
     "execution_count": 40,
     "metadata": {},
     "output_type": "execute_result"
    }
   ],
   "source": [
    "result"
   ]
  },
  {
   "cell_type": "code",
   "execution_count": 41,
   "id": "d0e48d36-6aab-4d4a-b4ae-063be6a18c06",
   "metadata": {},
   "outputs": [
    {
     "name": "stdout",
     "output_type": "stream",
     "text": [
      "[[ 4 33 19]\n",
      " [84 61  7]\n",
      " [65 57 47]]\n"
     ]
    }
   ],
   "source": [
    "#Practical Questions\n",
    "\n",
    "#Q1. Create a 3x3 NumPy array with random integers between 1 and 100. Then, interchange its rows and columns\n",
    "\n",
    "#ans>> example\n",
    "random_matrix = np.random.randint(1, 101, size=(3, 3))\n",
    "print(random_matrix)\n"
   ]
  },
  {
   "cell_type": "code",
   "execution_count": 42,
   "id": "dbb77273-940c-4cfe-9d32-261b3bf44468",
   "metadata": {},
   "outputs": [],
   "source": [
    "#2. Generate a 1D NumPy array with 10 elements. Reshape it into a 2x5 array, then into a 5x2 array\n",
    "\n",
    "#ans>>\n",
    "\n",
    "# Create a 1D array with 10 elements\n",
    "arr_1d = np.arange(10)\n",
    "\n",
    "\n"
   ]
  },
  {
   "cell_type": "code",
   "execution_count": 43,
   "id": "2445c6d4-cdcd-461e-8740-6ebf021883c0",
   "metadata": {},
   "outputs": [
    {
     "data": {
      "text/plain": [
       "array([0, 1, 2, 3, 4, 5, 6, 7, 8, 9])"
      ]
     },
     "execution_count": 43,
     "metadata": {},
     "output_type": "execute_result"
    }
   ],
   "source": [
    "arr_1d"
   ]
  },
  {
   "cell_type": "code",
   "execution_count": 48,
   "id": "66fc4282-e025-4850-90e5-3c3f3c51a941",
   "metadata": {},
   "outputs": [
    {
     "name": "stdout",
     "output_type": "stream",
     "text": [
      "1D array:\n",
      "[0 1 2 3 4 5 6 7 8 9]\n",
      "\n",
      "2x5 array:\n",
      "[[0 1 2 3 4]\n",
      " [5 6 7 8 9]]\n",
      "\n",
      "5x2 array:\n",
      "[[0 1]\n",
      " [2 3]\n",
      " [4 5]\n",
      " [6 7]\n",
      " [8 9]]\n"
     ]
    }
   ],
   "source": [
    "# Reshape to a 2x5 array\n",
    "arr_2x5 = arr_1d.reshape(2, 5)\n",
    "\n",
    "# Reshape to a 5x2 array\n",
    "arr_5x2 = arr_1d.reshape(5, 2)\n",
    "\n",
    "print(\"1D array:\")\n",
    "print(arr_1d)\n",
    "print(\"\\n2x5 array:\")\n",
    "print(arr_2x5)\n",
    "print(\"\\n5x2 array:\")\n",
    "print(arr_5x2)"
   ]
  },
  {
   "cell_type": "code",
   "execution_count": 49,
   "id": "f38a11d0-c779-406e-a2f9-17469bddcd6e",
   "metadata": {},
   "outputs": [],
   "source": [
    "#Q3. Create a 4x4 NumPy array with random float values. Add a border of zeros around it, resulting in a 6x6 arra\n",
    "\n",
    "#ans>> \n",
    "array_4x4 = np.random.rand(4, 4)\n"
   ]
  },
  {
   "cell_type": "code",
   "execution_count": 51,
   "id": "132e61fd-6358-4b12-b55f-41a151ee4dac",
   "metadata": {},
   "outputs": [
    {
     "data": {
      "text/plain": [
       "array([[0.58085062, 0.36425311, 0.10163646, 0.19489005],\n",
       "       [0.6791059 , 0.36334316, 0.09010767, 0.38536914],\n",
       "       [0.01673244, 0.90152571, 0.06546231, 0.82830516],\n",
       "       [0.20201562, 0.09416201, 0.88776414, 0.68636765]])"
      ]
     },
     "execution_count": 51,
     "metadata": {},
     "output_type": "execute_result"
    }
   ],
   "source": [
    "array_4x4"
   ]
  },
  {
   "cell_type": "code",
   "execution_count": 52,
   "id": "62ab7ad4-1366-4a1f-86dc-f2bb899efb69",
   "metadata": {},
   "outputs": [
    {
     "name": "stdout",
     "output_type": "stream",
     "text": [
      "6x6 Array:\n",
      "[[0.         0.         0.         0.         0.         0.        ]\n",
      " [0.         0.39806071 0.46610873 0.60930309 0.85502236 0.        ]\n",
      " [0.         0.74423711 0.37783368 0.15961242 0.00437741 0.        ]\n",
      " [0.         0.50334373 0.9491635  0.89858767 0.36998937 0.        ]\n",
      " [0.         0.89602552 0.11012698 0.90907293 0.92111939 0.        ]\n",
      " [0.         0.         0.         0.         0.         0.        ]]\n"
     ]
    }
   ],
   "source": [
    "# Create a 4x4 array with random float values\n",
    "array_4x4 = np.random.rand(4, 4)\n",
    "\n",
    "# Add a border of zeros around the 4x4 array to make it 6x6\n",
    "array_6x6 = np.pad(array_4x4, ((1, 1), (1, 1)), mode='constant', constant_values=0)\n",
    "\n",
    "# Print the resulting 6x6 array\n",
    "print(\"6x6 Array:\")\n",
    "print(array_6x6)\n"
   ]
  },
  {
   "cell_type": "code",
   "execution_count": 53,
   "id": "13dccc1a-1e1f-4176-9a2d-a57fb50878c8",
   "metadata": {},
   "outputs": [
    {
     "name": "stdout",
     "output_type": "stream",
     "text": [
      "[10 15 20 25 30 35 40 45 50 55 60]\n"
     ]
    }
   ],
   "source": [
    "#Q4. Using NumPy, create an array of integers from 10 to 60 with a step of 5\n",
    "\n",
    "#ans>> \n",
    "# Create the array\n",
    "my_array = np.arange(10, 61, 5)\n",
    "\n",
    "print(my_array)\n"
   ]
  },
  {
   "cell_type": "code",
   "execution_count": 55,
   "id": "41c5768a-dab5-4341-9aea-5c76eac8de6f",
   "metadata": {},
   "outputs": [
    {
     "name": "stdout",
     "output_type": "stream",
     "text": [
      "Original array: ['python' 'numpy' 'pandas']\n",
      "Uppercase array: ['PYTHON' 'NUMPY' 'PANDAS']\n",
      "Lowercase array: ['python' 'numpy' 'pandas']\n",
      "Title case array: ['Python' 'Numpy' 'Pandas']\n"
     ]
    }
   ],
   "source": [
    "#Q5. Create a NumPy array of strings ['python', 'numpy', 'pandas']. Apply different case transformations (uppercase, lowercase, title case, etc.) to each element\n",
    "\n",
    "\n",
    "#ans>>\n",
    "\n",
    "# Create the array\n",
    "string_array = np.array(['python', 'numpy', 'pandas'])\n",
    "\n",
    "# Uppercase\n",
    "uppercase_array = np.char.upper(string_array)\n",
    "\n",
    "# Lowercase\n",
    "lowercase_array = np.char.lower(string_array)\n",
    "\n",
    "# Title case\n",
    "titlecase_array = np.char.title(string_array)\n",
    "\n",
    "print(\"Original array:\", string_array)\n",
    "print(\"Uppercase array:\", uppercase_array)\n",
    "print(\"Lowercase array:\", lowercase_array)\n",
    "print(\"Title case array:\", titlecase_array)\n"
   ]
  },
  {
   "cell_type": "code",
   "execution_count": 56,
   "id": "cbbea7ae-3729-4211-a961-78b7b3d4a89d",
   "metadata": {},
   "outputs": [
    {
     "name": "stdout",
     "output_type": "stream",
     "text": [
      "['h e l l o' 'w o r l d']\n"
     ]
    }
   ],
   "source": [
    "#Q6. Generate a NumPy array of words. Insert a space between each character of every word in the array\n",
    "\n",
    "#ans>> \n",
    "# Create an array of strings\n",
    "array = np.array([\"hello\", \"world\"])\n",
    "\n",
    "# Use np.char.join to insert a space between each character\n",
    "spaced_array = np.char.join(\" \", array)\n",
    "\n",
    "print(spaced_array)\n"
   ]
  },
  {
   "cell_type": "code",
   "execution_count": 62,
   "id": "28b52a64-6fe2-4980-adbf-1db03d1ebcf9",
   "metadata": {},
   "outputs": [],
   "source": [
    "#Q7. Create two 2D NumPy arrays and perform element-wise addition, subtraction, multiplication, and division\n",
    "\n",
    "#ans>> \n",
    "# Create two 2D arrays\n",
    "array1 = np.array([[1, 2], [3, 4]])\n",
    "array2 = np.array([[5, 6], [7, 8]])\n"
   ]
  },
  {
   "cell_type": "code",
   "execution_count": 63,
   "id": "30a11928-446c-48d0-9333-535036ca7ec0",
   "metadata": {},
   "outputs": [
    {
     "data": {
      "text/plain": [
       "array([[1, 2],\n",
       "       [3, 4]])"
      ]
     },
     "execution_count": 63,
     "metadata": {},
     "output_type": "execute_result"
    }
   ],
   "source": [
    "array1"
   ]
  },
  {
   "cell_type": "code",
   "execution_count": 64,
   "id": "98651976-6a17-4edf-a87d-c8a0f3bee102",
   "metadata": {},
   "outputs": [
    {
     "data": {
      "text/plain": [
       "array([[5, 6],\n",
       "       [7, 8]])"
      ]
     },
     "execution_count": 64,
     "metadata": {},
     "output_type": "execute_result"
    }
   ],
   "source": [
    "array2"
   ]
  },
  {
   "cell_type": "code",
   "execution_count": 58,
   "id": "bcb73746-3fc9-4916-b8cc-add1d4567ba8",
   "metadata": {},
   "outputs": [],
   "source": [
    "addition_result = array1 + array2\n"
   ]
  },
  {
   "cell_type": "code",
   "execution_count": 59,
   "id": "39566fa9-3638-4c40-b1a0-11f355aaef91",
   "metadata": {},
   "outputs": [
    {
     "data": {
      "text/plain": [
       "array([[ 6,  8],\n",
       "       [10, 12]])"
      ]
     },
     "execution_count": 59,
     "metadata": {},
     "output_type": "execute_result"
    }
   ],
   "source": [
    "addition_result"
   ]
  },
  {
   "cell_type": "code",
   "execution_count": 60,
   "id": "ca325c57-5e06-405c-9ea8-57af81016b8e",
   "metadata": {},
   "outputs": [],
   "source": [
    "subtraction_result = array1 - array2\n"
   ]
  },
  {
   "cell_type": "code",
   "execution_count": 61,
   "id": "accf427d-8f2f-4462-9cd7-c38582935be1",
   "metadata": {},
   "outputs": [
    {
     "data": {
      "text/plain": [
       "array([[-4, -4],\n",
       "       [-4, -4]])"
      ]
     },
     "execution_count": 61,
     "metadata": {},
     "output_type": "execute_result"
    }
   ],
   "source": [
    "subtraction_result"
   ]
  },
  {
   "cell_type": "code",
   "execution_count": 65,
   "id": "75beeb43-96e2-4940-8fc7-f1475be80812",
   "metadata": {},
   "outputs": [],
   "source": [
    "multiplication_result = array1 * array2\n"
   ]
  },
  {
   "cell_type": "code",
   "execution_count": 66,
   "id": "63187275-6776-4008-bbc8-278096797f59",
   "metadata": {},
   "outputs": [
    {
     "data": {
      "text/plain": [
       "array([[ 5, 12],\n",
       "       [21, 32]])"
      ]
     },
     "execution_count": 66,
     "metadata": {},
     "output_type": "execute_result"
    }
   ],
   "source": [
    "multiplication_result"
   ]
  },
  {
   "cell_type": "code",
   "execution_count": 67,
   "id": "b2129f75-7912-4418-a2f2-2dc63174c794",
   "metadata": {},
   "outputs": [],
   "source": [
    "division_result = array1 / array2\n"
   ]
  },
  {
   "cell_type": "code",
   "execution_count": 68,
   "id": "dcc104b7-e85b-4464-9422-a180e3bc0dd1",
   "metadata": {},
   "outputs": [
    {
     "data": {
      "text/plain": [
       "array([[0.2       , 0.33333333],\n",
       "       [0.42857143, 0.5       ]])"
      ]
     },
     "execution_count": 68,
     "metadata": {},
     "output_type": "execute_result"
    }
   ],
   "source": [
    "division_result"
   ]
  },
  {
   "cell_type": "code",
   "execution_count": 69,
   "id": "11d711ae-a99c-4b2a-b6eb-9bd527a41e6b",
   "metadata": {},
   "outputs": [],
   "source": [
    "#Q8. Use NumPy to create a 5x5 identity matrix, then extract its diagonal element\n",
    "\n",
    "#ans>> \n",
    "identity_matrix = np.eye(5)"
   ]
  },
  {
   "cell_type": "code",
   "execution_count": 70,
   "id": "daf43d83-c170-498d-89be-e4bdd3dc7e5d",
   "metadata": {},
   "outputs": [
    {
     "data": {
      "text/plain": [
       "array([[1., 0., 0., 0., 0.],\n",
       "       [0., 1., 0., 0., 0.],\n",
       "       [0., 0., 1., 0., 0.],\n",
       "       [0., 0., 0., 1., 0.],\n",
       "       [0., 0., 0., 0., 1.]])"
      ]
     },
     "execution_count": 70,
     "metadata": {},
     "output_type": "execute_result"
    }
   ],
   "source": [
    "identity_matrix"
   ]
  },
  {
   "cell_type": "code",
   "execution_count": 71,
   "id": "282b2abd-c216-4746-ad8b-f8799f2e2695",
   "metadata": {},
   "outputs": [],
   "source": [
    "#9. Generate a NumPy array of 100 random integers between 0 and 1000. Find and display all prime numbers in this array\n",
    "\n",
    "#ans>> \n",
    "# Generate a NumPy array of 100 random integers between 0 and 1000\n",
    "random_array = np.random.randint(0, 1000, size=100)"
   ]
  },
  {
   "cell_type": "code",
   "execution_count": 72,
   "id": "8d81ed90-91cd-431b-a01a-ca167531c178",
   "metadata": {},
   "outputs": [
    {
     "data": {
      "text/plain": [
       "array([555, 570,  46, 894, 771, 408, 980, 587, 220, 955, 559, 839, 844,\n",
       "       218, 293, 733, 322, 357, 353, 555, 360, 786,  30, 979, 141, 299,\n",
       "        12, 293, 437, 262, 945, 867, 732, 686, 916, 489, 664, 177, 240,\n",
       "       326, 725, 258, 422, 995, 410, 439, 194, 427,  74, 156, 289, 849,\n",
       "       224, 987, 140, 815, 686, 111, 880, 813, 118, 251, 661, 471, 231,\n",
       "       614, 920, 599, 621, 184, 750, 782,   0, 846, 760, 979, 675, 569,\n",
       "       117, 363, 691, 934, 954,  73, 358,  53, 714, 756, 640, 426, 719,\n",
       "       529, 946, 416, 703, 416, 217, 244, 555, 629])"
      ]
     },
     "execution_count": 72,
     "metadata": {},
     "output_type": "execute_result"
    }
   ],
   "source": [
    "random_array"
   ]
  },
  {
   "cell_type": "code",
   "execution_count": 73,
   "id": "03f10208-55f9-4869-8094-fdc226527f13",
   "metadata": {},
   "outputs": [
    {
     "name": "stdout",
     "output_type": "stream",
     "text": [
      "Prime numbers in the array:\n",
      "[853  17   2 599  17 563  71 101 967 487 857 439  59 359 739   0]\n"
     ]
    }
   ],
   "source": [
    "import math\n",
    "\n",
    "def is_prime(n):\n",
    "    if n % 2 == 0 and n > 2:\n",
    "        return False\n",
    "    return all(n % i for i in range(3, int(math.sqrt(n)) + 1, 2))\n",
    "\n",
    "random_array = np.random.randint(0, 1000, size=100)\n",
    "prime_numbers = random_array[ np.vectorize(is_prime)(random_array) ]\n",
    "\n",
    "print(\"Prime numbers in the array:\")\n",
    "print(prime_numbers)"
   ]
  },
  {
   "cell_type": "code",
   "execution_count": 74,
   "id": "ac223895-8a0f-4de6-8dfa-b33d46879cbc",
   "metadata": {},
   "outputs": [
    {
     "name": "stdout",
     "output_type": "stream",
     "text": [
      "Weekly Averages: [29. 28. 35. 42.]\n"
     ]
    }
   ],
   "source": [
    "#Q10. Create a NumPy array representing daily temperatures for a month. Calculate and display the weekly averages\n",
    "\n",
    "#ans\n",
    "\n",
    "# Step 1: Create a NumPy array with daily temperatures for a month (30 days)\n",
    "daily_temperatures = np.array([30, 32, 31, 29, 28, 27, 26,  # Week 1\n",
    "                               25, 26, 27, 28, 29, 30, 31,  # Week 2\n",
    "                               32, 33, 34, 35, 36, 37, 38,  # Week 3\n",
    "                               39, 40, 41, 42, 43, 44, 45]) # Week 4\n",
    "\n",
    "# Step 2: Reshape the array to 4 weeks, each containing 7 days\n",
    "weekly_temperatures = daily_temperatures.reshape(4, 7)\n",
    "\n",
    "# Step 3: Calculate the average temperature for each week\n",
    "weekly_averages = np.mean(weekly_temperatures, axis=1)\n",
    "\n",
    "# Display the weekly averages\n",
    "print(\"Weekly Averages:\", weekly_averages)\n"
   ]
  },
  {
   "cell_type": "code",
   "execution_count": null,
   "id": "fa906178-cc80-4116-9d4f-8213932a1300",
   "metadata": {},
   "outputs": [],
   "source": []
  }
 ],
 "metadata": {
  "kernelspec": {
   "display_name": "Python 3 (ipykernel)",
   "language": "python",
   "name": "python3"
  },
  "language_info": {
   "codemirror_mode": {
    "name": "ipython",
    "version": 3
   },
   "file_extension": ".py",
   "mimetype": "text/x-python",
   "name": "python",
   "nbconvert_exporter": "python",
   "pygments_lexer": "ipython3",
   "version": "3.10.8"
  }
 },
 "nbformat": 4,
 "nbformat_minor": 5
}
